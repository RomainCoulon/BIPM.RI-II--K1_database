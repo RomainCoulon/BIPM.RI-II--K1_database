{
  "nbformat": 4,
  "nbformat_minor": 0,
  "metadata": {
    "colab": {
      "provenance": [],
      "authorship_tag": "ABX9TyNT4GcPSCJiEQNHMPLgHKfv",
      "include_colab_link": true
    },
    "kernelspec": {
      "name": "python3",
      "display_name": "Python 3"
    },
    "language_info": {
      "name": "python"
    }
  },
  "cells": [
    {
      "cell_type": "markdown",
      "metadata": {
        "id": "view-in-github",
        "colab_type": "text"
      },
      "source": [
        "<a href=\"https://colab.research.google.com/github/RomainCoulon/BIPM.RI-II--K1_database/blob/main/Untitled2.ipynb\" target=\"_parent\"><img src=\"https://colab.research.google.com/assets/colab-badge.svg\" alt=\"Open In Colab\"/></a>"
      ]
    },
    {
      "cell_type": "markdown",
      "source": [
        "## Residuals"
      ],
      "metadata": {
        "id": "ZXfBCjhMvBlQ"
      }
    },
    {
      "cell_type": "code",
      "execution_count": 9,
      "metadata": {
        "colab": {
          "base_uri": "https://localhost:8080/",
          "height": 517
        },
        "id": "P-OKSeggCbkp",
        "outputId": "40175849-89eb-4b12-c880-7d1d052d4cc2"
      },
      "outputs": [
        {
          "output_type": "stream",
          "name": "stdout",
          "text": [
            "Collecting TDCRPy\n",
            "  Downloading TDCRPy-1.8.14-py3-none-any.whl (23.3 MB)\n",
            "\u001b[2K     \u001b[90m━━━━━━━━━━━━━━━━━━━━━━━━━━━━━━━━━━━━━━━━\u001b[0m \u001b[32m23.3/23.3 MB\u001b[0m \u001b[31m2.9 MB/s\u001b[0m eta \u001b[36m0:00:00\u001b[0m\n",
            "\u001b[?25hRequirement already satisfied: numpy in /usr/local/lib/python3.10/dist-packages (from TDCRPy) (1.25.2)\n",
            "Requirement already satisfied: tqdm in /usr/local/lib/python3.10/dist-packages (from TDCRPy) (4.66.2)\n",
            "Requirement already satisfied: setuptools in /usr/local/lib/python3.10/dist-packages (from TDCRPy) (67.7.2)\n",
            "Requirement already satisfied: scipy in /usr/local/lib/python3.10/dist-packages (from TDCRPy) (1.11.4)\n",
            "Collecting configparser (from TDCRPy)\n",
            "  Downloading configparser-6.0.1-py3-none-any.whl (19 kB)\n",
            "Requirement already satisfied: importlib.resources in /usr/local/lib/python3.10/dist-packages (from TDCRPy) (6.3.0)\n",
            "Requirement already satisfied: matplotlib in /usr/local/lib/python3.10/dist-packages (from TDCRPy) (3.7.1)\n",
            "Requirement already satisfied: contourpy>=1.0.1 in /usr/local/lib/python3.10/dist-packages (from matplotlib->TDCRPy) (1.2.0)\n",
            "Requirement already satisfied: cycler>=0.10 in /usr/local/lib/python3.10/dist-packages (from matplotlib->TDCRPy) (0.12.1)\n",
            "Requirement already satisfied: fonttools>=4.22.0 in /usr/local/lib/python3.10/dist-packages (from matplotlib->TDCRPy) (4.49.0)\n",
            "Requirement already satisfied: kiwisolver>=1.0.1 in /usr/local/lib/python3.10/dist-packages (from matplotlib->TDCRPy) (1.4.5)\n",
            "Requirement already satisfied: packaging>=20.0 in /usr/local/lib/python3.10/dist-packages (from matplotlib->TDCRPy) (24.0)\n",
            "Requirement already satisfied: pillow>=6.2.0 in /usr/local/lib/python3.10/dist-packages (from matplotlib->TDCRPy) (9.4.0)\n",
            "Requirement already satisfied: pyparsing>=2.3.1 in /usr/local/lib/python3.10/dist-packages (from matplotlib->TDCRPy) (3.1.2)\n",
            "Requirement already satisfied: python-dateutil>=2.7 in /usr/local/lib/python3.10/dist-packages (from matplotlib->TDCRPy) (2.8.2)\n",
            "Requirement already satisfied: six>=1.5 in /usr/local/lib/python3.10/dist-packages (from python-dateutil>=2.7->matplotlib->TDCRPy) (1.16.0)\n",
            "Installing collected packages: configparser, TDCRPy\n",
            "Successfully installed TDCRPy-1.8.14 configparser-6.0.1\n"
          ]
        },
        {
          "output_type": "display_data",
          "data": {
            "application/vnd.colab-display-data+json": {
              "pip_warning": {
                "packages": [
                  "configparser"
                ]
              },
              "id": "5e0eab1386c443a691ac7e45ecd3f70e"
            }
          },
          "metadata": {}
        }
      ],
      "source": [
        "#pip install TDCRPy"
      ]
    },
    {
      "cell_type": "code",
      "source": [
        "import tdcrpy"
      ],
      "metadata": {
        "id": "uA3jmlvEDCS1"
      },
      "execution_count": 1,
      "outputs": []
    },
    {
      "cell_type": "markdown",
      "source": [
        "## Symmetric PMTs - estimation of detection efficiencies"
      ],
      "metadata": {
        "id": "F_lO1FSmHeno"
      }
    },
    {
      "cell_type": "code",
      "source": [
        "mode = \"eff\"               # ask for efficiency calculation\n",
        "mode2 = \"sym\"              # specify that symmetric PMTs is considered\n",
        "L = 1.2                    # free parameter in keV-1\n",
        "TD = 0.977667386529166     # not use\n",
        "TAB = 0.992232838598821    # not use\n",
        "TBC = 0.992343419459002    # not use\n",
        "TAC = 0.99275350064608     # not use\n",
        "Rad=\"Co-60\"                # radionuclide\n",
        "pmf_1=\"1\"                  # relative fraction of the radionulide\n",
        "N = 1000                   # number of Monte Carlo trials\n",
        "kB =1.0e-5                 # Birks constant in cm keV-1\n",
        "V = 10                     # volume of scintillator in mL"
      ],
      "metadata": {
        "id": "UhmnNbUKDJu4"
      },
      "execution_count": 5,
      "outputs": []
    },
    {
      "cell_type": "code",
      "source": [
        "result = tdcrpy.TDCRPy.TDCRPy(L, TD, TAB, TBC, TAC, Rad, pmf_1, N, kB, V, mode, mode2)"
      ],
      "metadata": {
        "id": "61hjNEWUDThz",
        "colab": {
          "base_uri": "https://localhost:8080/",
          "height": 146
        },
        "outputId": "29c2bf7f-3825-4674-ec21-cb3406d90f13"
      },
      "execution_count": 6,
      "outputs": [
        {
          "output_type": "error",
          "ename": "NameError",
          "evalue": "name 'tdcrpy' is not defined",
          "traceback": [
            "\u001b[0;31m---------------------------------------------------------------------------\u001b[0m",
            "\u001b[0;31mNameError\u001b[0m                                 Traceback (most recent call last)",
            "\u001b[0;32m<ipython-input-6-b15815d0bcc7>\u001b[0m in \u001b[0;36m<cell line: 1>\u001b[0;34m()\u001b[0m\n\u001b[0;32m----> 1\u001b[0;31m \u001b[0mresult\u001b[0m \u001b[0;34m=\u001b[0m \u001b[0mtdcrpy\u001b[0m\u001b[0;34m.\u001b[0m\u001b[0mTDCRPy\u001b[0m\u001b[0;34m.\u001b[0m\u001b[0mTDCRPy\u001b[0m\u001b[0;34m(\u001b[0m\u001b[0mL\u001b[0m\u001b[0;34m,\u001b[0m \u001b[0mTD\u001b[0m\u001b[0;34m,\u001b[0m \u001b[0mTAB\u001b[0m\u001b[0;34m,\u001b[0m \u001b[0mTBC\u001b[0m\u001b[0;34m,\u001b[0m \u001b[0mTAC\u001b[0m\u001b[0;34m,\u001b[0m \u001b[0mRad\u001b[0m\u001b[0;34m,\u001b[0m \u001b[0mpmf_1\u001b[0m\u001b[0;34m,\u001b[0m \u001b[0mN\u001b[0m\u001b[0;34m,\u001b[0m \u001b[0mkB\u001b[0m\u001b[0;34m,\u001b[0m \u001b[0mV\u001b[0m\u001b[0;34m,\u001b[0m \u001b[0mmode\u001b[0m\u001b[0;34m,\u001b[0m \u001b[0mmode2\u001b[0m\u001b[0;34m)\u001b[0m\u001b[0;34m\u001b[0m\u001b[0;34m\u001b[0m\u001b[0m\n\u001b[0m",
            "\u001b[0;31mNameError\u001b[0m: name 'tdcrpy' is not defined"
          ]
        }
      ]
    },
    {
      "cell_type": "code",
      "source": [
        "print(f\"efficiency S = {round(result[0],4)} +/- {round(result[1],4)}\")\n",
        "print(f\"efficiency D = {round(result[2],4)} +/- {round(result[3],4)}\")\n",
        "print(f\"efficiency T = {round(result[4],4)} +/- {round(result[5],4)}\")"
      ],
      "metadata": {
        "id": "QIVyAPjpDnrm"
      },
      "execution_count": null,
      "outputs": []
    },
    {
      "cell_type": "markdown",
      "source": [
        "## Asymmetric PMTs - estimation of detection efficiencies"
      ],
      "metadata": {
        "id": "A0mOlTm0KQOZ"
      }
    },
    {
      "cell_type": "code",
      "source": [
        "mode = \"eff\"               # ask for efficiency calculation\n",
        "mode2 = \"asym\"             # specify that symmetric PMTs is considered\n",
        "L = (1.1, 1.3, 1.2)        # free parameter in keV-1\n",
        "TD = 0.977667386529166     # not use\n",
        "TAB = 0.992232838598821    # not use\n",
        "TBC = 0.992343419459002    # not use\n",
        "TAC = 0.99275350064608     # not use\n",
        "Rad=\"Co-60\"                # radionuclide\n",
        "pmf_1=\"1\"                  # relative fraction of the radionulide\n",
        "N = 1000                   # number of Monte Carlo trials\n",
        "kB =1.0e-5                 # Birks constant in cm keV-1\n",
        "V = 10                     # volume of scintillator in mL"
      ],
      "metadata": {
        "id": "eMnbtVO_Kbza"
      },
      "execution_count": null,
      "outputs": []
    },
    {
      "cell_type": "code",
      "source": [
        "result = tdcrpy.TDCRPy.TDCRPy(L, TD, TAB, TBC, TAC, Rad, pmf_1, N, kB, V, mode, mode2)"
      ],
      "metadata": {
        "id": "n0He4QjqKf45"
      },
      "execution_count": null,
      "outputs": []
    },
    {
      "cell_type": "code",
      "source": [
        "print(f\"efficiency S = {round(result[0],4)} +/- {round(result[1],4)}\")\n",
        "print(f\"efficiency D = {round(result[2],4)} +/- {round(result[3],4)}\")\n",
        "print(f\"efficiency T = {round(result[4],4)} +/- {round(result[5],4)}\")"
      ],
      "metadata": {
        "id": "EXx_N17vKnBT"
      },
      "execution_count": null,
      "outputs": []
    },
    {
      "cell_type": "markdown",
      "source": [
        "## Residuals"
      ],
      "metadata": {
        "id": "W2dKLpgGlw2d"
      }
    },
    {
      "cell_type": "code",
      "source": [
        "mode = \"res\"               # ask for efficiency calculation\n",
        "mode2 = \"sym\"              # specify that symmetric PMTs is considered\n",
        "L = 1.2                    # free parameter in keV-1\n",
        "TD = 0.977667386529166     # TDCR parameter\n",
        "TAB = 0.992232838598821    # TDCR parameter (AB)\n",
        "TBC = 0.992343419459002    # TDCR parameter (BC)\n",
        "TAC = 0.99275350064608     # TDCR parameter (AC)\n",
        "Rad=\"Co-60\"                # radionuclide\n",
        "pmf_1=\"1\"                  # relative fraction of the radionulide\n",
        "N = 1000                   # number of Monte Carlo trials\n",
        "kB =1.0e-5                 # Birks constant in cm keV-1\n",
        "V = 10                     # volume of scintillator in mL"
      ],
      "metadata": {
        "id": "6j2SiFfOmFXD"
      },
      "execution_count": null,
      "outputs": []
    },
    {
      "cell_type": "code",
      "source": [
        "result = tdcrpy.TDCRPy.TDCRPy(L, TD, TAB, TBC, TAC, Rad, pmf_1, N, kB, V, mode, mode2)"
      ],
      "metadata": {
        "id": "9DE22AsKmg8k"
      },
      "execution_count": null,
      "outputs": []
    },
    {
      "cell_type": "code",
      "source": [
        "print(f\"residuals = {round(result,10)}\")"
      ],
      "metadata": {
        "id": "VD8Rv_QamqwG"
      },
      "execution_count": null,
      "outputs": []
    },
    {
      "cell_type": "markdown",
      "source": [
        "## Radionuclide mixture"
      ],
      "metadata": {
        "id": "6jY9096TvJBz"
      }
    },
    {
      "cell_type": "code",
      "source": [
        "mode = \"eff\"               # ask for efficiency calculation\n",
        "mode2 = \"sym\"              # specify that symmetric PMTs is considered\n",
        "L = 1.2                    # free parameter in keV-1\n",
        "TD = 0.977667386529166     # TDCR parameter\n",
        "TAB = 0.992232838598821    # TDCR parameter (AB)\n",
        "TBC = 0.992343419459002    # TDCR parameter (BC)\n",
        "TAC = 0.99275350064608     # TDCR parameter (AC)\n",
        "Rad=\"Co-60, H-3\"           # radionuclide\n",
        "pmf_1=\"0.8, 0.2\"                  # relative fraction of the radionulide\n",
        "N = 1000                   # number of Monte Carlo trials\n",
        "kB =1.0e-5                 # Birks constant in cm keV-1\n",
        "V = 10                     # volume of scintillator in mL"
      ],
      "metadata": {
        "id": "mxxiTHvJvJB0"
      },
      "execution_count": 2,
      "outputs": []
    },
    {
      "cell_type": "code",
      "source": [
        "result = tdcrpy.TDCRPy.TDCRPy(L, TD, TAB, TBC, TAC, Rad, pmf_1, N, kB, V, mode, mode2)"
      ],
      "metadata": {
        "id": "hWmggyi5vJB0"
      },
      "execution_count": 3,
      "outputs": []
    },
    {
      "cell_type": "code",
      "source": [
        "print(f\"efficiency S = {round(result[0],4)} +/- {round(result[1],4)}\")\n",
        "print(f\"efficiency D = {round(result[2],4)} +/- {round(result[3],4)}\")\n",
        "print(f\"efficiency T = {round(result[4],4)} +/- {round(result[5],4)}\")"
      ],
      "metadata": {
        "colab": {
          "base_uri": "https://localhost:8080/"
        },
        "id": "TjOF1mBww-re",
        "outputId": "ce05cbe0-18a9-4d58-e454-fb0ffcf0eb00"
      },
      "execution_count": 4,
      "outputs": [
        {
          "output_type": "stream",
          "name": "stdout",
          "text": [
            "efficiency S = 0.8929 +/- 0.0076\n",
            "efficiency D = 0.8983 +/- 0.0081\n",
            "efficiency T = 0.8334 +/- 0.0102\n"
          ]
        }
      ]
    }
  ]
}